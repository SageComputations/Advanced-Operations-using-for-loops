{
 "cells": [
  {
   "cell_type": "code",
   "execution_count": 1,
   "id": "ac466997",
   "metadata": {},
   "outputs": [
    {
     "name": "stdout",
     "output_type": "stream",
     "text": [
      "[0, 27, 54, 81, 108, 135, 162, 189, 216, 243, 270, 297]\n"
     ]
    }
   ],
   "source": [
    "multiples_27 = [i for i in range(300) if i % 27 == 0]\n",
    "\n",
    "print(multiples_27)"
   ]
  },
  {
   "cell_type": "code",
   "execution_count": 2,
   "id": "ac9fb5d8",
   "metadata": {},
   "outputs": [
    {
     "data": {
      "text/plain": [
       "['A', 'E', 'A', 'I']"
      ]
     },
     "execution_count": 2,
     "metadata": {},
     "output_type": "execute_result"
    }
   ],
   "source": [
    "[i for i in 'MATHEMATICS' if i in ['A','E','I','O','U']]"
   ]
  },
  {
   "cell_type": "code",
   "execution_count": 3,
   "id": "27127a45",
   "metadata": {},
   "outputs": [
    {
     "name": "stdout",
     "output_type": "stream",
     "text": [
      "[1, 2, 3, 4, 5]\n"
     ]
    }
   ],
   "source": [
    "string = \"Hello 12345 World\"\n",
    "\n",
    "numbers = [int(x) for x in string if x.isdigit()]\n",
    "\n",
    "print(numbers)"
   ]
  },
  {
   "cell_type": "code",
   "execution_count": 4,
   "id": "8d1a4444",
   "metadata": {},
   "outputs": [
    {
     "name": "stdout",
     "output_type": "stream",
     "text": [
      "['H', 'e', 'l', 'l', 'o', 'W', 'o', 'r', 'l', 'd']\n"
     ]
    }
   ],
   "source": [
    "alpha = [x for x in string if x.isalpha()]\n",
    "\n",
    "print(alpha)"
   ]
  },
  {
   "cell_type": "code",
   "execution_count": 5,
   "id": "a71f80f7",
   "metadata": {},
   "outputs": [
    {
     "data": {
      "text/plain": [
       "[('Red', 'Pen'),\n",
       " ('Blue', 'Pen'),\n",
       " ('Green', 'Pen'),\n",
       " ('Red', 'Marker'),\n",
       " ('Blue', 'Marker'),\n",
       " ('Green', 'Marker'),\n",
       " ('Red', 'Ink'),\n",
       " ('Blue', 'Ink'),\n",
       " ('Green', 'Ink')]"
      ]
     },
     "execution_count": 5,
     "metadata": {},
     "output_type": "execute_result"
    }
   ],
   "source": [
    "stationary = ['Pen','Marker','Ink']\n",
    "colors = ['Red','Blue','Green']\n",
    "\n",
    "combined = [(i,j) for j in stationary for i in colors]\n",
    "\n",
    "combined"
   ]
  },
  {
   "cell_type": "code",
   "execution_count": 7,
   "id": "4a748d3a",
   "metadata": {},
   "outputs": [
    {
     "name": "stdout",
     "output_type": "stream",
     "text": [
      "[0, 10, 20, 30, 40, 50]\n"
     ]
    }
   ],
   "source": [
    "number_list = [number for number in range(51) if number % 2 == 0 if number % 5 == 0]\n",
    "\n",
    "print(number_list)"
   ]
  },
  {
   "cell_type": "code",
   "execution_count": 8,
   "id": "5a012b1a",
   "metadata": {},
   "outputs": [
    {
     "name": "stdout",
     "output_type": "stream",
     "text": [
      "['Even', 'Odd', 'Even', 'Odd', 'Even', 'Odd', 'Even', 'Odd', 'Even', 'Odd']\n"
     ]
    }
   ],
   "source": [
    "num = ['Even' if i % 2 == 0 else 'Odd' for i in range(10)]\n",
    "\n",
    "print(num)"
   ]
  },
  {
   "cell_type": "code",
   "execution_count": 9,
   "id": "e2dada6b",
   "metadata": {},
   "outputs": [
    {
     "data": {
      "text/plain": [
       "[27, 35, 46, 51, 23, 70, 48, 49, 17]"
      ]
     },
     "execution_count": 9,
     "metadata": {},
     "output_type": "execute_result"
    }
   ],
   "source": [
    "numbers = [22,30,45,50,18,69,43,44,12]\n",
    "\n",
    "[x + 1 if x >= 45 else x + 5 for x in numbers]"
   ]
  },
  {
   "cell_type": "code",
   "execution_count": 10,
   "id": "84d66bb2",
   "metadata": {},
   "outputs": [
    {
     "name": "stdout",
     "output_type": "stream",
     "text": [
      "['large', 'small', 'small']\n"
     ]
    }
   ],
   "source": [
    "x = ['small' if number < 20 else 'large' for number in numbers if number % 2 ==0 if number % 3 == 0]\n",
    "\n",
    "print(x)"
   ]
  },
  {
   "cell_type": "code",
   "execution_count": null,
   "id": "e52ad436",
   "metadata": {},
   "outputs": [],
   "source": []
  }
 ],
 "metadata": {
  "kernelspec": {
   "display_name": "Python 3 (ipykernel)",
   "language": "python",
   "name": "python3"
  },
  "language_info": {
   "codemirror_mode": {
    "name": "ipython",
    "version": 3
   },
   "file_extension": ".py",
   "mimetype": "text/x-python",
   "name": "python",
   "nbconvert_exporter": "python",
   "pygments_lexer": "ipython3",
   "version": "3.9.12"
  }
 },
 "nbformat": 4,
 "nbformat_minor": 5
}
