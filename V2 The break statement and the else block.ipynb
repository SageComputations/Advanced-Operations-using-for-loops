{
 "cells": [
  {
   "cell_type": "code",
   "execution_count": 1,
   "id": "9915f964",
   "metadata": {},
   "outputs": [
    {
     "name": "stdout",
     "output_type": "stream",
     "text": [
      "The villain got away :(\n"
     ]
    }
   ],
   "source": [
    "places = ['New Delhi','Rohtak','Gurugram','Noida','CHandigarh']\n",
    "\n",
    "villain_at = 'Mumbai'\n",
    "\n",
    "for place in places:\n",
    "    if place == villain_at:\n",
    "        \n",
    "        print(\"The villain has been captured!\")\n",
    "        break\n",
    "        \n",
    "else:\n",
    "    print('The villain got away :(')"
   ]
  },
  {
   "cell_type": "code",
   "execution_count": 2,
   "id": "34b598aa",
   "metadata": {},
   "outputs": [
    {
     "name": "stdout",
     "output_type": "stream",
     "text": [
      "The villain has been captured!\n"
     ]
    }
   ],
   "source": [
    "places = ['New Delhi','Rohtak','Gurugram','Noida','CHandigarh']\n",
    "\n",
    "villain_at = 'Noida'\n",
    "\n",
    "for place in places:\n",
    "    if place == villain_at:\n",
    "        \n",
    "        print(\"The villain has been captured!\")\n",
    "        break\n",
    "        \n",
    "else:\n",
    "    print('The villain got away :(')"
   ]
  },
  {
   "cell_type": "code",
   "execution_count": 10,
   "id": "6c4827ac",
   "metadata": {},
   "outputs": [
    {
     "name": "stdout",
     "output_type": "stream",
     "text": [
      "Enter a number: 7\n",
      "7 is a prime number\n"
     ]
    }
   ],
   "source": [
    "num = int(input(\"Enter a number: \"))\n",
    "\n",
    "for i in range(2, num):\n",
    "    if num % i == 0:\n",
    "        \n",
    "        print(\"It is not a prime number\")\n",
    "        break\n",
    "        \n",
    "else:\n",
    "    print(num,\"is a prime number\")"
   ]
  },
  {
   "cell_type": "code",
   "execution_count": 2,
   "id": "ac24bb84",
   "metadata": {},
   "outputs": [
    {
     "name": "stdout",
     "output_type": "stream",
     "text": [
      "Enter a password: python\n",
      "Enter a password: world\n",
      "Enter a password: hello\n",
      "3 incorrect password attempts\n"
     ]
    }
   ],
   "source": [
    "for i in range(3):\n",
    "    password = str(input(\"Enter a password: \"))\n",
    "    \n",
    "    if password == \"secret\":\n",
    "        print('you guessed the password :)')\n",
    "        break\n",
    "        \n",
    "else:\n",
    "    print(\"3 incorrect password attempts\")"
   ]
  },
  {
   "cell_type": "code",
   "execution_count": null,
   "id": "b34c8144",
   "metadata": {},
   "outputs": [],
   "source": []
  }
 ],
 "metadata": {
  "kernelspec": {
   "display_name": "Python 3 (ipykernel)",
   "language": "python",
   "name": "python3"
  },
  "language_info": {
   "codemirror_mode": {
    "name": "ipython",
    "version": 3
   },
   "file_extension": ".py",
   "mimetype": "text/x-python",
   "name": "python",
   "nbconvert_exporter": "python",
   "pygments_lexer": "ipython3",
   "version": "3.9.12"
  }
 },
 "nbformat": 4,
 "nbformat_minor": 5
}
