{
 "cells": [
  {
   "cell_type": "markdown",
   "id": "d6f54ad5",
   "metadata": {},
   "source": [
    "# when the continue statement is executed in the loop, the code inside the loop following the continue statement will be skipped for the current iteration and the next iteration of the loop will begin."
   ]
  },
  {
   "cell_type": "code",
   "execution_count": 1,
   "id": "7361ccd7",
   "metadata": {},
   "outputs": [
    {
     "name": "stdout",
     "output_type": "stream",
     "text": [
      "S\n",
      "t\n",
      "r\n",
      "n\n",
      "g\n",
      "The End\n"
     ]
    }
   ],
   "source": [
    "for letter in 'String':\n",
    "    if letter == 'i':\n",
    "        continue\n",
    "        \n",
    "    print(letter)\n",
    "    \n",
    "print('The End')"
   ]
  },
  {
   "cell_type": "code",
   "execution_count": 2,
   "id": "15609b14",
   "metadata": {},
   "outputs": [
    {
     "name": "stdout",
     "output_type": "stream",
     "text": [
      "S\n",
      "t\n",
      "u\n",
      "d\n",
      "n\n",
      "t\n"
     ]
    }
   ],
   "source": [
    "my_string = \"Students\"\n",
    "\n",
    "for letter in my_string:\n",
    "    if (letter == 'e' or letter == 's'):\n",
    "        \n",
    "        continue\n",
    "    else:\n",
    "        print(letter)"
   ]
  },
  {
   "cell_type": "code",
   "execution_count": 3,
   "id": "a6699f24",
   "metadata": {},
   "outputs": [
    {
     "name": "stdout",
     "output_type": "stream",
     "text": [
      "Is 2 is an even number? \n",
      "Yes\n",
      "Is 4 is an even number? \n",
      "Yes\n",
      "Is 6 is an even number? \n",
      "Yes\n",
      "Is 8 is an even number? \n",
      "Yes\n"
     ]
    }
   ],
   "source": [
    "for i in range(1,10):\n",
    "    \n",
    "    if i % 2 == 0:\n",
    "        print(\"Is %s is an even number? \" % i)\n",
    "        \n",
    "    else:\n",
    "        continue\n",
    "        \n",
    "    print('Yes')\n"
   ]
  },
  {
   "cell_type": "code",
   "execution_count": 4,
   "id": "7d0222f5",
   "metadata": {},
   "outputs": [
    {
     "name": "stdout",
     "output_type": "stream",
     "text": [
      "1\n",
      "Found an even number:  2\n",
      "3\n",
      "Found an even number:  4\n",
      "5\n",
      "Found an even number:  6\n",
      "7\n",
      "Found an even number:  8\n",
      "9\n"
     ]
    }
   ],
   "source": [
    "for num in range(1,10):\n",
    "    \n",
    "    if num % 2 == 0:\n",
    "        print('Found an even number: ',num)\n",
    "        \n",
    "        continue\n",
    "    print(num)"
   ]
  },
  {
   "cell_type": "code",
   "execution_count": null,
   "id": "9bab8802",
   "metadata": {},
   "outputs": [],
   "source": []
  }
 ],
 "metadata": {
  "kernelspec": {
   "display_name": "Python 3 (ipykernel)",
   "language": "python",
   "name": "python3"
  },
  "language_info": {
   "codemirror_mode": {
    "name": "ipython",
    "version": 3
   },
   "file_extension": ".py",
   "mimetype": "text/x-python",
   "name": "python",
   "nbconvert_exporter": "python",
   "pygments_lexer": "ipython3",
   "version": "3.9.12"
  }
 },
 "nbformat": 4,
 "nbformat_minor": 5
}
