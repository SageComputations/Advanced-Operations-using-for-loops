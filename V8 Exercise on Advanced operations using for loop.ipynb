{
 "cells": [
  {
   "cell_type": "markdown",
   "id": "6857444e",
   "metadata": {},
   "source": [
    "# Q1. Write a for loop which iterates over random list of numbers and a.) prints them b.) except if they are divisible by 7 c.) stops Iteration if the number 315 is encountered\n"
   ]
  },
  {
   "cell_type": "code",
   "execution_count": 1,
   "id": "a8193ed7",
   "metadata": {},
   "outputs": [
    {
     "name": "stdout",
     "output_type": "stream",
     "text": [
      "124 148 173 256 "
     ]
    }
   ],
   "source": [
    "list_of_nums = [124,148,173,231,256,301,315,361,399]\n",
    "\n",
    "for i in list_of_nums:\n",
    "    \n",
    "    if (i == 315):\n",
    "        break\n",
    "        \n",
    "    if(i % 7 == 0):\n",
    "        continue\n",
    "        \n",
    "    print(i, end = ' ')"
   ]
  },
  {
   "cell_type": "markdown",
   "id": "4186c30b",
   "metadata": {},
   "source": [
    "# Q2. Start with a random list of numbers a.) Use list comprehension to generate cubes of numbers from numbers in the original list b.) only if the original number is divisible by 3"
   ]
  },
  {
   "cell_type": "code",
   "execution_count": 1,
   "id": "6832424d",
   "metadata": {},
   "outputs": [
    {
     "name": "stdout",
     "output_type": "stream",
     "text": [
      "[27, 216, 1728, 5832]\n"
     ]
    }
   ],
   "source": [
    "original_list = [2,3,6,7,8,11,12,13,17,18]\n",
    "\n",
    "cubes_list = [x ** 3 for x in original_list if x % 3 == 0]\n",
    "\n",
    "print(cubes_list)"
   ]
  },
  {
   "cell_type": "code",
   "execution_count": null,
   "id": "f7f7ee8b",
   "metadata": {},
   "outputs": [],
   "source": []
  }
 ],
 "metadata": {
  "kernelspec": {
   "display_name": "Python 3 (ipykernel)",
   "language": "python",
   "name": "python3"
  },
  "language_info": {
   "codemirror_mode": {
    "name": "ipython",
    "version": 3
   },
   "file_extension": ".py",
   "mimetype": "text/x-python",
   "name": "python",
   "nbconvert_exporter": "python",
   "pygments_lexer": "ipython3",
   "version": "3.9.12"
  }
 },
 "nbformat": 4,
 "nbformat_minor": 5
}
