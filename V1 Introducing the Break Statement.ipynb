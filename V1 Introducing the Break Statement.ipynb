{
 "cells": [
  {
   "cell_type": "markdown",
   "id": "f8d400b3",
   "metadata": {},
   "source": [
    "# Break statement - Used to break out of the for loop once the required condition is met"
   ]
  },
  {
   "cell_type": "code",
   "execution_count": 1,
   "id": "0d9ad50e",
   "metadata": {},
   "outputs": [
    {
     "name": "stdout",
     "output_type": "stream",
     "text": [
      "p\n",
      "y\n",
      "t\n",
      "h\n"
     ]
    }
   ],
   "source": [
    "for letter in 'python':\n",
    "    if letter == 'o':\n",
    "        \n",
    "        break\n",
    "    print(letter)"
   ]
  },
  {
   "cell_type": "code",
   "execution_count": 2,
   "id": "9d91b028",
   "metadata": {},
   "outputs": [
    {
     "name": "stdout",
     "output_type": "stream",
     "text": [
      "p\n",
      "y\n",
      "t\n",
      "h\n",
      "o\n"
     ]
    }
   ],
   "source": [
    "for letter in 'python':\n",
    "    print(letter)\n",
    "    \n",
    "    if letter == 'o':\n",
    "        break"
   ]
  },
  {
   "cell_type": "code",
   "execution_count": 3,
   "id": "5aa8533c",
   "metadata": {},
   "outputs": [
    {
     "name": "stdout",
     "output_type": "stream",
     "text": [
      "The letter c was found in the string\n"
     ]
    }
   ],
   "source": [
    "for char in 'icecream':\n",
    "    if char == 'c':\n",
    "        \n",
    "        print('The letter %s was found in the string' % char)\n",
    "        break\n",
    "        \n",
    "else:\n",
    "    print('The letter %s does not exist in the string' % char)"
   ]
  },
  {
   "cell_type": "code",
   "execution_count": 4,
   "id": "6ccd3e5d",
   "metadata": {},
   "outputs": [
    {
     "name": "stdout",
     "output_type": "stream",
     "text": [
      "The letter w does not exist in the string\n"
     ]
    }
   ],
   "source": [
    "for char in 'snow':\n",
    "    if char == 'c':\n",
    "        \n",
    "        print('The letter %s was found in the string' % char)\n",
    "        break\n",
    "        \n",
    "else:\n",
    "    print('The letter %s does not exist in the string' % char)"
   ]
  },
  {
   "cell_type": "code",
   "execution_count": 5,
   "id": "58ec071f",
   "metadata": {},
   "outputs": [
    {
     "name": "stdout",
     "output_type": "stream",
     "text": [
      "3\n",
      "11\n",
      "22\n",
      "The number 22 has been found\n",
      "Terminating the loop......\n"
     ]
    }
   ],
   "source": [
    "for num in [3,11,22,33,90]:\n",
    "    print(num)\n",
    "    \n",
    "    if (num == 22):\n",
    "        print('The number %d has been found' % num)\n",
    "        print('Terminating the loop......')\n",
    "        \n",
    "        break"
   ]
  },
  {
   "cell_type": "code",
   "execution_count": 6,
   "id": "d010b926",
   "metadata": {},
   "outputs": [
    {
     "name": "stdout",
     "output_type": "stream",
     "text": [
      "0\n",
      "1\n",
      "2\n",
      "3\n"
     ]
    }
   ],
   "source": [
    "for i in range(7):\n",
    "    \n",
    "    if i == 4:\n",
    "        break\n",
    "        \n",
    "    print(i)"
   ]
  },
  {
   "cell_type": "code",
   "execution_count": 7,
   "id": "d7ba90ee",
   "metadata": {},
   "outputs": [
    {
     "name": "stdout",
     "output_type": "stream",
     "text": [
      "1 is less than 5\n",
      "2 is less than 5\n",
      "3 is less than 5\n",
      "4 is less than 5\n"
     ]
    }
   ],
   "source": [
    "for i in range(1,10):\n",
    "    \n",
    "    if i >=5:\n",
    "        break\n",
    "        \n",
    "    print(i, \"is less than 5\")"
   ]
  },
  {
   "cell_type": "code",
   "execution_count": 8,
   "id": "8a509990",
   "metadata": {},
   "outputs": [
    {
     "name": "stdout",
     "output_type": "stream",
     "text": [
      "0 square 0\n",
      "1 square 1\n",
      "2 square 4\n",
      "3 square 9\n",
      "4 square 16\n"
     ]
    }
   ],
   "source": [
    "my_list = range(10)\n",
    "\n",
    "for num in my_list:\n",
    "    if num ** 2 > 20:\n",
    "        \n",
    "        break\n",
    "        \n",
    "    print(num, 'square', num**2 )"
   ]
  },
  {
   "cell_type": "code",
   "execution_count": null,
   "id": "603a7977",
   "metadata": {},
   "outputs": [],
   "source": []
  }
 ],
 "metadata": {
  "kernelspec": {
   "display_name": "Python 3 (ipykernel)",
   "language": "python",
   "name": "python3"
  },
  "language_info": {
   "codemirror_mode": {
    "name": "ipython",
    "version": 3
   },
   "file_extension": ".py",
   "mimetype": "text/x-python",
   "name": "python",
   "nbconvert_exporter": "python",
   "pygments_lexer": "ipython3",
   "version": "3.9.12"
  }
 },
 "nbformat": 4,
 "nbformat_minor": 5
}
